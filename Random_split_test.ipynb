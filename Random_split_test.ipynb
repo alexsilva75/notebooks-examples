{
 "cells": [
  {
   "cell_type": "code",
   "execution_count": 1,
   "id": "225934eb-e964-458e-a1d6-3452b924eb5a",
   "metadata": {},
   "outputs": [],
   "source": [
    "import torch\n",
    "from torch.utils.data import DataLoader, random_split\n",
    "import torchvision\n",
    "from torchvision import datasets, transforms, models\n",
    "import os\n",
    "import numpy as np\n",
    "from collections import Counter"
   ]
  },
  {
   "cell_type": "code",
   "execution_count": 2,
   "id": "035a600b-69a2-4c3f-8a70-bb18c8289a21",
   "metadata": {},
   "outputs": [],
   "source": [
    "data_path = 'dataset_run/'"
   ]
  },
  {
   "cell_type": "code",
   "execution_count": 3,
   "id": "6ac5e48b-bde7-4707-a6ab-1b6086e8fb4a",
   "metadata": {},
   "outputs": [],
   "source": [
    "dataset = datasets.ImageFolder(root=data_path, \n",
    "                               transform=transforms.Compose([transforms.ToTensor(), \n",
    "                                                             transforms.Resize(size=(224,224))]))\n"
   ]
  },
  {
   "cell_type": "code",
   "execution_count": 4,
   "id": "7b2fb50f-e502-4acc-9f21-842a4961f9ea",
   "metadata": {},
   "outputs": [
    {
     "data": {
      "text/plain": [
       "['0_Amiloidose', '1_Non_Amiloidose']"
      ]
     },
     "execution_count": 4,
     "metadata": {},
     "output_type": "execute_result"
    }
   ],
   "source": [
    "dataset.classes"
   ]
  },
  {
   "cell_type": "code",
   "execution_count": 5,
   "id": "f4d98414-c8fe-4099-aceb-b10355ea9a2a",
   "metadata": {},
   "outputs": [
    {
     "data": {
      "text/plain": [
       "4390"
      ]
     },
     "execution_count": 5,
     "metadata": {},
     "output_type": "execute_result"
    }
   ],
   "source": [
    "len(dataset.targets)"
   ]
  },
  {
   "cell_type": "code",
   "execution_count": 6,
   "id": "4f8686fe-2a0f-4bf2-bdd1-2036f6b3ff2f",
   "metadata": {},
   "outputs": [
    {
     "data": {
      "text/plain": [
       "4390"
      ]
     },
     "execution_count": 6,
     "metadata": {},
     "output_type": "execute_result"
    }
   ],
   "source": [
    "len(dataset)"
   ]
  },
  {
   "cell_type": "code",
   "execution_count": 7,
   "id": "6b1ba64c-c36f-4d04-8fa0-89fbb57b86f2",
   "metadata": {},
   "outputs": [],
   "source": [
    "main_dataloader = DataLoader(dataset=dataset, batch_size=32)"
   ]
  },
  {
   "cell_type": "code",
   "execution_count": 8,
   "id": "d49c7e4d-0a3b-4a95-99ae-5f28d098936f",
   "metadata": {},
   "outputs": [
    {
     "data": {
      "text/plain": [
       "138"
      ]
     },
     "execution_count": 8,
     "metadata": {},
     "output_type": "execute_result"
    }
   ],
   "source": [
    "len(main_dataloader)"
   ]
  },
  {
   "cell_type": "code",
   "execution_count": 11,
   "id": "82e6a352-441e-4000-b4c0-43dc58f4da2c",
   "metadata": {},
   "outputs": [
    {
     "data": {
      "text/plain": [
       "4390"
      ]
     },
     "execution_count": 11,
     "metadata": {},
     "output_type": "execute_result"
    }
   ],
   "source": [
    "len(main_dataloader.dataset)"
   ]
  },
  {
   "cell_type": "code",
   "execution_count": 14,
   "id": "4f488a25-fc3d-4170-8ea5-76ee8466bb63",
   "metadata": {},
   "outputs": [
    {
     "data": {
      "text/plain": [
       "tensor([0.2500, 0.7500])"
      ]
     },
     "execution_count": 14,
     "metadata": {},
     "output_type": "execute_result"
    }
   ],
   "source": [
    "weights = [0.25, 0.75]\n",
    "class_weights = torch.FloatTensor(weights)\n",
    "class_weights"
   ]
  },
  {
   "cell_type": "code",
   "execution_count": 10,
   "id": "ecef82b6-068c-4818-803f-28755871c269",
   "metadata": {},
   "outputs": [
    {
     "name": "stdout",
     "output_type": "stream",
     "text": [
      "{0: 375, 1: 4015}\n"
     ]
    }
   ],
   "source": [
    "weights = dict(Counter(dataset.targets))\n",
    "print(weights)"
   ]
  },
  {
   "cell_type": "code",
   "execution_count": 27,
   "id": "4943936b-7a04-44eb-9068-25f747849487",
   "metadata": {},
   "outputs": [
    {
     "name": "stderr",
     "output_type": "stream",
     "text": [
      "C:\\Users\\alexs\\AppData\\Local\\Programs\\Python\\Python311\\Lib\\site-packages\\torchvision\\transforms\\functional.py:1603: UserWarning: The default value of the antialias parameter of all the resizing transforms (Resize(), RandomResizedCrop(), etc.) will change from None to True in v0.17, in order to be consistent across the PIL and Tensor backends. To suppress this warning, directly pass antialias=True (recommended, future default), antialias=None (current default, which means False for Tensors and True for PIL), or antialias=False (only works on Tensors - PIL will still use antialiasing). This also applies if you are using the inference transforms from the models weights: update the call to weights.transforms(antialias=True).\n",
      "  warnings.warn(\n"
     ]
    }
   ],
   "source": [
    "for batch, (x, y) in enumerate(main_dataloader):\n",
    "    x, y = x.to('cpu'), y.to('cpu')"
   ]
  },
  {
   "cell_type": "code",
   "execution_count": 28,
   "id": "6ffe2f73-008d-4da7-81c0-9bcd78d1b8b8",
   "metadata": {},
   "outputs": [],
   "source": [
    "databatch = next(iter(main_dataloader))\n",
    "\n",
    "# databatch"
   ]
  },
  {
   "cell_type": "code",
   "execution_count": 25,
   "id": "9b267b5b-8060-4f10-8ed4-198e92dee9e9",
   "metadata": {},
   "outputs": [
    {
     "name": "stdout",
     "output_type": "stream",
     "text": [
      "X: tensor([[[0.6703, 0.6748, 0.6677,  ..., 0.5083, 0.5166, 0.6178],\n",
      "         [0.7005, 0.7224, 0.7461,  ..., 0.4556, 0.4623, 0.5079],\n",
      "         [0.7520, 0.7512, 0.7431,  ..., 0.4627, 0.5087, 0.5090],\n",
      "         ...,\n",
      "         [0.5257, 0.2820, 0.2745,  ..., 0.6972, 0.6765, 0.6724],\n",
      "         [0.5137, 0.2899, 0.2901,  ..., 0.6723, 0.6761, 0.6636],\n",
      "         [0.4658, 0.2997, 0.3157,  ..., 0.6665, 0.6594, 0.6769]],\n",
      "\n",
      "        [[0.5532, 0.5998, 0.6356,  ..., 0.4676, 0.4543, 0.5936],\n",
      "         [0.5851, 0.7515, 0.7659,  ..., 0.3174, 0.3190, 0.3780],\n",
      "         [0.6371, 0.7627, 0.7779,  ..., 0.3183, 0.3532, 0.3778],\n",
      "         ...,\n",
      "         [0.5174, 0.3015, 0.3443,  ..., 0.4541, 0.4095, 0.4645],\n",
      "         [0.5319, 0.3089, 0.3601,  ..., 0.4429, 0.4519, 0.4815],\n",
      "         [0.4690, 0.3131, 0.4084,  ..., 0.4755, 0.4723, 0.4894]],\n",
      "\n",
      "        [[0.7164, 0.7658, 0.7735,  ..., 0.7254, 0.7075, 0.7825],\n",
      "         [0.7372, 0.7994, 0.8264,  ..., 0.6166, 0.6195, 0.6448],\n",
      "         [0.7695, 0.8419, 0.8375,  ..., 0.5801, 0.5947, 0.6434],\n",
      "         ...,\n",
      "         [0.7798, 0.7000, 0.7440,  ..., 0.6390, 0.6104, 0.6369],\n",
      "         [0.7885, 0.7104, 0.7577,  ..., 0.6252, 0.6092, 0.6546],\n",
      "         [0.7708, 0.7283, 0.7857,  ..., 0.6705, 0.6541, 0.6723]]])\n",
      "y: 0\n"
     ]
    }
   ],
   "source": [
    "x = dataset[0][0]\n",
    "print(f\"X: {x}\")\n",
    "\n",
    "y = dataset[0][1]\n",
    "print(f\"y: {y}\")\n",
    "\n"
   ]
  },
  {
   "cell_type": "code",
   "execution_count": 27,
   "id": "4d77cb6e-1d8c-4c93-81dc-80e9d2b762fe",
   "metadata": {},
   "outputs": [],
   "source": [
    "generator1 = torch.Generator().manual_seed(42)\n",
    "dataset, holdout = random_split(dataset, [0.75, 0.25], generator=generator1)"
   ]
  },
  {
   "cell_type": "code",
   "execution_count": null,
   "id": "688eaac5-0e7c-4f9e-8551-0d897b2dee90",
   "metadata": {},
   "outputs": [],
   "source": [
    "m = nn.Sigmoid()\n",
    "loss = nn.BCELoss()\n",
    "input = torch.randn(3, 2, requires_grad=True)\n",
    "target = torch.rand(3, 2, requires_grad=False)\n",
    "output = loss(m(input), target)\n",
    "output.backward()"
   ]
  },
  {
   "cell_type": "code",
   "execution_count": 8,
   "id": "1c8aa843-a4e2-431f-913d-b63befe21135",
   "metadata": {},
   "outputs": [
    {
     "data": {
      "text/plain": [
       "<torch.utils.data.dataset.Subset at 0x1f5f89fee10>"
      ]
     },
     "execution_count": 8,
     "metadata": {},
     "output_type": "execute_result"
    }
   ],
   "source": [
    "dataset"
   ]
  },
  {
   "cell_type": "code",
   "execution_count": 29,
   "id": "e91a849f-bda0-4957-b771-00617c79bd34",
   "metadata": {},
   "outputs": [],
   "source": [
    "transform =transforms.Compose([transforms.ToTensor()])\n",
    "\n",
    "holdout_tensor = [ [x, y] for x, y in holdout]"
   ]
  },
  {
   "cell_type": "code",
   "execution_count": 38,
   "id": "dbb81bd7-c0df-45eb-b440-00c73767027b",
   "metadata": {},
   "outputs": [],
   "source": [
    "# holdout_tensor"
   ]
  },
  {
   "cell_type": "code",
   "execution_count": 39,
   "id": "87ea432c-080a-47a4-8f00-0e2e61c35dd3",
   "metadata": {},
   "outputs": [
    {
     "ename": "AttributeError",
     "evalue": "'int' object has no attribute 'to'",
     "output_type": "error",
     "traceback": [
      "\u001b[1;31m---------------------------------------------------------------------------\u001b[0m",
      "\u001b[1;31mAttributeError\u001b[0m                            Traceback (most recent call last)",
      "Cell \u001b[1;32mIn[39], line 1\u001b[0m\n\u001b[1;32m----> 1\u001b[0m \u001b[43mholdout_tensor\u001b[49m\u001b[43m[\u001b[49m\u001b[38;5;241;43m0\u001b[39;49m\u001b[43m]\u001b[49m\u001b[43m[\u001b[49m\u001b[38;5;241;43m1\u001b[39;49m\u001b[43m]\u001b[49m\u001b[38;5;241;43m.\u001b[39;49m\u001b[43mto\u001b[49m(\u001b[38;5;124m'\u001b[39m\u001b[38;5;124mcpu\u001b[39m\u001b[38;5;124m'\u001b[39m)\n",
      "\u001b[1;31mAttributeError\u001b[0m: 'int' object has no attribute 'to'"
     ]
    }
   ],
   "source": [
    "holdout_tensor[0][1].to('cpu')"
   ]
  },
  {
   "cell_type": "code",
   "execution_count": 32,
   "id": "22bbdf20-b07a-4b03-867e-137d199a2985",
   "metadata": {},
   "outputs": [],
   "source": [
    "train_dataloader = DataLoader(dataset=dataset,batch_size=32, num_workers=os.cpu_count())"
   ]
  },
  {
   "cell_type": "code",
   "execution_count": 33,
   "id": "3075f313-a5d6-41e7-a7ee-faa8a0a3a20c",
   "metadata": {},
   "outputs": [],
   "source": [
    "test_dataloader = DataLoader(dataset=holdout,batch_size=32, num_workers=os.cpu_count())"
   ]
  },
  {
   "cell_type": "code",
   "execution_count": 60,
   "id": "a7d3ea0e-5e66-4528-b6d3-a1dbfbee0668",
   "metadata": {},
   "outputs": [],
   "source": [
    "model = models.inception_v3(weights=torchvision.models.Inception_V3_Weights.IMAGENET1K_V1, progress=True)"
   ]
  },
  {
   "cell_type": "code",
   "execution_count": 55,
   "id": "7a3515b9-38af-4ba6-9ce8-b0d7e7fa002a",
   "metadata": {},
   "outputs": [
    {
     "data": {
      "text/plain": [
       "True"
      ]
     },
     "execution_count": 55,
     "metadata": {},
     "output_type": "execute_result"
    }
   ],
   "source": [
    "model = models.inception_v3(weights=torchvision.models.Inception_V3_Weights.IMAGENET1K_V1, progress=True)\n",
    "type(model) == torchvision.models.inception.Inception3"
   ]
  },
  {
   "cell_type": "code",
   "execution_count": 29,
   "id": "93bf339a-396e-471d-b1ca-4a2e0640a199",
   "metadata": {},
   "outputs": [
    {
     "ename": "NameError",
     "evalue": "name 'transform' is not defined",
     "output_type": "error",
     "traceback": [
      "\u001b[1;31m---------------------------------------------------------------------------\u001b[0m",
      "\u001b[1;31mNameError\u001b[0m                                 Traceback (most recent call last)",
      "Cell \u001b[1;32mIn[29], line 1\u001b[0m\n\u001b[1;32m----> 1\u001b[0m y \u001b[38;5;241m=\u001b[39m\u001b[43mtransform\u001b[49m( [\u001b[38;5;241m1\u001b[39m, \u001b[38;5;241m1\u001b[39m, \u001b[38;5;241m0\u001b[39m, \u001b[38;5;241m1\u001b[39m, \u001b[38;5;241m1\u001b[39m, \u001b[38;5;241m1\u001b[39m, \u001b[38;5;241m1\u001b[39m, \u001b[38;5;241m1\u001b[39m, \u001b[38;5;241m1\u001b[39m, \u001b[38;5;241m1\u001b[39m, \u001b[38;5;241m1\u001b[39m, \u001b[38;5;241m1\u001b[39m, \u001b[38;5;241m1\u001b[39m, \u001b[38;5;241m1\u001b[39m, \u001b[38;5;241m1\u001b[39m, \u001b[38;5;241m0\u001b[39m, \u001b[38;5;241m1\u001b[39m, \u001b[38;5;241m1\u001b[39m, \u001b[38;5;241m1\u001b[39m, \u001b[38;5;241m1\u001b[39m, \u001b[38;5;241m0\u001b[39m, \u001b[38;5;241m1\u001b[39m, \u001b[38;5;241m1\u001b[39m, \u001b[38;5;241m1\u001b[39m,\n\u001b[0;32m      2\u001b[0m         \u001b[38;5;241m0\u001b[39m, \u001b[38;5;241m1\u001b[39m, \u001b[38;5;241m1\u001b[39m, \u001b[38;5;241m1\u001b[39m, \u001b[38;5;241m1\u001b[39m, \u001b[38;5;241m1\u001b[39m, \u001b[38;5;241m1\u001b[39m, \u001b[38;5;241m1\u001b[39m])\n",
      "\u001b[1;31mNameError\u001b[0m: name 'transform' is not defined"
     ]
    }
   ],
   "source": [
    "y =transform( [1, 1, 0, 1, 1, 1, 1, 1, 1, 1, 1, 1, 1, 1, 1, 0, 1, 1, 1, 1, 0, 1, 1, 1,\n",
    "        0, 1, 1, 1, 1, 1, 1, 1])"
   ]
  },
  {
   "cell_type": "code",
   "execution_count": null,
   "id": "43a763f0-3779-4452-990d-69731e394481",
   "metadata": {},
   "outputs": [],
   "source": [
    "m = torch.nn.Sigmoid()\n",
    "loss = torch.nn.BCELoss()\n",
    "input = torch.randn(3, 2, requires_grad=True)\n",
    "target = torch.rand(3, 2, requires_grad=False)\n",
    "output = loss(y, y)\n",
    "output.backward()        "
   ]
  },
  {
   "cell_type": "code",
   "execution_count": 18,
   "id": "f461d0a2-d3e3-4049-9c87-aef7a4be2f1f",
   "metadata": {},
   "outputs": [
    {
     "data": {
      "text/plain": [
       "torch.Size([3, 2])"
      ]
     },
     "execution_count": 18,
     "metadata": {},
     "output_type": "execute_result"
    }
   ],
   "source": [
    "input.shape"
   ]
  },
  {
   "cell_type": "code",
   "execution_count": 20,
   "id": "b79d01da-5e48-4f2f-a865-8d261b5dc0ec",
   "metadata": {},
   "outputs": [
    {
     "data": {
      "text/plain": [
       "torch.Size([3, 2])"
      ]
     },
     "execution_count": 20,
     "metadata": {},
     "output_type": "execute_result"
    }
   ],
   "source": [
    "m(target).shape"
   ]
  }
 ],
 "metadata": {
  "kernelspec": {
   "display_name": "Python 3 (ipykernel)",
   "language": "python",
   "name": "python3"
  },
  "language_info": {
   "codemirror_mode": {
    "name": "ipython",
    "version": 3
   },
   "file_extension": ".py",
   "mimetype": "text/x-python",
   "name": "python",
   "nbconvert_exporter": "python",
   "pygments_lexer": "ipython3",
   "version": "3.11.7"
  }
 },
 "nbformat": 4,
 "nbformat_minor": 5
}
