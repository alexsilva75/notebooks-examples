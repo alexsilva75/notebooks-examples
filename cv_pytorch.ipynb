{
 "cells": [
  {
   "cell_type": "code",
   "execution_count": 1,
   "id": "3d3932ef-90d6-40fe-b866-fb04a62d51f5",
   "metadata": {},
   "outputs": [
    {
     "data": {
      "text/plain": [
       "'2.2.1+cpu'"
      ]
     },
     "execution_count": 1,
     "metadata": {},
     "output_type": "execute_result"
    }
   ],
   "source": [
    "import torch\n",
    "from torch import nn\n",
    "\n",
    "torch.__version__"
   ]
  },
  {
   "cell_type": "code",
   "execution_count": 2,
   "id": "9c3d8577-6a85-4028-af28-6491a8fdfc8d",
   "metadata": {},
   "outputs": [],
   "source": [
    "import os"
   ]
  },
  {
   "cell_type": "code",
   "execution_count": 4,
   "id": "e114e27a-cafe-4fda-a6d2-28f439515f68",
   "metadata": {},
   "outputs": [
    {
     "data": {
      "text/plain": [
       "'cpu'"
      ]
     },
     "execution_count": 4,
     "metadata": {},
     "output_type": "execute_result"
    }
   ],
   "source": [
    "# Setup device-agnostic code\n",
    "device = \"cuda\" if torch.cuda.is_available() else \"cpu\"\n",
    "device"
   ]
  },
  {
   "cell_type": "code",
   "execution_count": 5,
   "id": "9d3aa71d-0673-4888-8e2a-0504f444c79a",
   "metadata": {},
   "outputs": [],
   "source": [
    "data_path = 'azan'\n",
    "classes = 0"
   ]
  },
  {
   "cell_type": "code",
   "execution_count": 11,
   "id": "1c441105-2c30-45c7-8574-170a18dd2dbf",
   "metadata": {},
   "outputs": [],
   "source": [
    "for root, subdirs, files in os.walk(data_path):\n",
    "        if subdirs:\n",
    "            classes = subdirs"
   ]
  },
  {
   "cell_type": "code",
   "execution_count": 12,
   "id": "ab599bc3-c34d-479a-b702-e82f12c3f8aa",
   "metadata": {},
   "outputs": [
    {
     "data": {
      "text/plain": [
       "['1_Normal', '0_Amiloidose']"
      ]
     },
     "execution_count": 12,
     "metadata": {},
     "output_type": "execute_result"
    }
   ],
   "source": [
    "classes"
   ]
  },
  {
   "cell_type": "code",
   "execution_count": 41,
   "id": "7e942364-0027-4fe2-9c05-a34258f3c0e1",
   "metadata": {},
   "outputs": [],
   "source": [
    "def load_dataset(base_dir):\n",
    "    \n",
    "    shuffle=True\n",
    "    X = []\n",
    "    y = []\n",
    "    processed_image_count = 0\n",
    "    # classes = 0\n",
    "    for root, subdirs, files in os.walk(base_dir):\n",
    "        if subdirs:\n",
    "            classes = subdirs\n",
    "            # print (\"[INFO] Processando classe \", classes)\n",
    "        for filename in files:\n",
    "            file_path = os.path.join(root, filename)\n",
    "            # if file_path.startswith(base_dir) is false then AssertionError\n",
    "            # print(f\"File Path: {file_path}\")\n",
    "            assert file_path.startswith(base_dir)\n",
    "            suffix = file_path[len(base_dir):]\n",
    "            suffix = suffix.lstrip(os.sep)\n",
    "            label = suffix.split(os.sep)[0]\n",
    "\n",
    "            #print(\"label: \", label)\n",
    "            #print(\"Classes: \", classes.index(label))\n",
    "            \n",
    "            X.append(file_path)\n",
    "            y.append(classes.index(label))\n",
    "    \n",
    "    X = np.array(X)\n",
    "    y = np.array(y)\n",
    "    return X, y\n"
   ]
  },
  {
   "cell_type": "code",
   "execution_count": 39,
   "id": "4ebf442b-f0d8-4cb0-8465-49d1979818bd",
   "metadata": {},
   "outputs": [],
   "source": [
    "from torch.utils.data import random_split\n",
    "import numpy as np"
   ]
  },
  {
   "cell_type": "code",
   "execution_count": 42,
   "id": "a857c444-7d1c-4d3f-865c-3c3ea26a444b",
   "metadata": {},
   "outputs": [],
   "source": [
    "X, y = load_dataset(data_path)"
   ]
  },
  {
   "cell_type": "code",
   "execution_count": 43,
   "id": "5f3c79f9-aebb-4436-bd61-2e0bc17ebd2a",
   "metadata": {},
   "outputs": [
    {
     "data": {
      "text/plain": [
       "['1_Normal', '0_Amiloidose']"
      ]
     },
     "execution_count": 43,
     "metadata": {},
     "output_type": "execute_result"
    }
   ],
   "source": [
    "classes"
   ]
  },
  {
   "cell_type": "code",
   "execution_count": 37,
   "id": "a04451da-eefb-4d78-8378-fd73bf33b8f1",
   "metadata": {},
   "outputs": [
    {
     "data": {
      "text/plain": [
       "7"
      ]
     },
     "execution_count": 37,
     "metadata": {},
     "output_type": "execute_result"
    }
   ],
   "source": [
    "seed = np.random.randint(10)\n",
    "seed"
   ]
  },
  {
   "cell_type": "code",
   "execution_count": null,
   "id": "61f41d5e-64a2-4bf4-a238-4e0243387fb1",
   "metadata": {},
   "outputs": [],
   "source": []
  },
  {
   "cell_type": "code",
   "execution_count": 46,
   "id": "b47ebd1f-69a9-4b33-9cda-78aa400c5257",
   "metadata": {},
   "outputs": [
    {
     "ename": "TypeError",
     "evalue": "randperm() received an invalid combination of arguments - got (float, generator=torch._C.Generator), but expected one of:\n * (int n, *, torch.Generator generator, Tensor out, torch.dtype dtype, torch.layout layout, torch.device device, bool pin_memory, bool requires_grad)\n * (int n, *, Tensor out, torch.dtype dtype, torch.layout layout, torch.device device, bool pin_memory, bool requires_grad)\n",
     "output_type": "error",
     "traceback": [
      "\u001b[0;31m---------------------------------------------------------------------------\u001b[0m",
      "\u001b[0;31mTypeError\u001b[0m                                 Traceback (most recent call last)",
      "Cell \u001b[0;32mIn[46], line 2\u001b[0m\n\u001b[1;32m      1\u001b[0m X_generator \u001b[38;5;241m=\u001b[39m torch\u001b[38;5;241m.\u001b[39mGenerator()\u001b[38;5;241m.\u001b[39mmanual_seed(seed)\n\u001b[0;32m----> 2\u001b[0m X_train, X_test \u001b[38;5;241m=\u001b[39m \u001b[43mrandom_split\u001b[49m\u001b[43m(\u001b[49m\u001b[43mX\u001b[49m\u001b[43m,\u001b[49m\u001b[43m \u001b[49m\u001b[43m[\u001b[49m\u001b[38;5;241;43m0.7\u001b[39;49m\u001b[43m \u001b[49m\u001b[38;5;241;43m*\u001b[39;49m\u001b[43m \u001b[49m\u001b[38;5;28;43mlen\u001b[39;49m\u001b[43m(\u001b[49m\u001b[43mX\u001b[49m\u001b[43m)\u001b[49m\u001b[43m,\u001b[49m\u001b[43m \u001b[49m\u001b[38;5;241;43m0.3\u001b[39;49m\u001b[43m \u001b[49m\u001b[38;5;241;43m*\u001b[39;49m\u001b[43m \u001b[49m\u001b[38;5;28;43mlen\u001b[39;49m\u001b[43m(\u001b[49m\u001b[43mX\u001b[49m\u001b[43m)\u001b[49m\u001b[43m]\u001b[49m\u001b[43m,\u001b[49m\u001b[43m \u001b[49m\u001b[43mgenerator\u001b[49m\u001b[38;5;241;43m=\u001b[39;49m\u001b[43mX_generator\u001b[49m\u001b[43m)\u001b[49m\n\u001b[1;32m      4\u001b[0m X_test\n",
      "File \u001b[0;32m~/.local/lib/python3.8/site-packages/torch/utils/data/dataset.py:456\u001b[0m, in \u001b[0;36mrandom_split\u001b[0;34m(dataset, lengths, generator)\u001b[0m\n\u001b[1;32m    453\u001b[0m \u001b[38;5;28;01mif\u001b[39;00m \u001b[38;5;28msum\u001b[39m(lengths) \u001b[38;5;241m!=\u001b[39m \u001b[38;5;28mlen\u001b[39m(dataset):    \u001b[38;5;66;03m# type: ignore[arg-type]\u001b[39;00m\n\u001b[1;32m    454\u001b[0m     \u001b[38;5;28;01mraise\u001b[39;00m \u001b[38;5;167;01mValueError\u001b[39;00m(\u001b[38;5;124m\"\u001b[39m\u001b[38;5;124mSum of input lengths does not equal the length of the input dataset!\u001b[39m\u001b[38;5;124m\"\u001b[39m)\n\u001b[0;32m--> 456\u001b[0m indices \u001b[38;5;241m=\u001b[39m \u001b[43mrandperm\u001b[49m\u001b[43m(\u001b[49m\u001b[38;5;28;43msum\u001b[39;49m\u001b[43m(\u001b[49m\u001b[43mlengths\u001b[49m\u001b[43m)\u001b[49m\u001b[43m,\u001b[49m\u001b[43m \u001b[49m\u001b[43mgenerator\u001b[49m\u001b[38;5;241;43m=\u001b[39;49m\u001b[43mgenerator\u001b[49m\u001b[43m)\u001b[49m\u001b[38;5;241m.\u001b[39mtolist()  \u001b[38;5;66;03m# type: ignore[arg-type, call-overload]\u001b[39;00m\n\u001b[1;32m    457\u001b[0m \u001b[38;5;28;01mreturn\u001b[39;00m [Subset(dataset, indices[offset \u001b[38;5;241m-\u001b[39m length : offset]) \u001b[38;5;28;01mfor\u001b[39;00m offset, length \u001b[38;5;129;01min\u001b[39;00m \u001b[38;5;28mzip\u001b[39m(_accumulate(lengths), lengths)]\n",
      "\u001b[0;31mTypeError\u001b[0m: randperm() received an invalid combination of arguments - got (float, generator=torch._C.Generator), but expected one of:\n * (int n, *, torch.Generator generator, Tensor out, torch.dtype dtype, torch.layout layout, torch.device device, bool pin_memory, bool requires_grad)\n * (int n, *, Tensor out, torch.dtype dtype, torch.layout layout, torch.device device, bool pin_memory, bool requires_grad)\n"
     ]
    }
   ],
   "source": [
    "X_generator = torch.Generator().manual_seed(seed)\n",
    "X_train, X_test = random_split(X, [0.7 * len(X), 0.3 * len(X)], generator=X_generator)\n",
    "\n",
    "X_test"
   ]
  },
  {
   "cell_type": "code",
   "execution_count": null,
   "id": "2f43fad8-7997-47b7-b392-3dcc9f8836e6",
   "metadata": {},
   "outputs": [],
   "source": [
    "y_generator = torch.Generator().manual_seed(seed)\n"
   ]
  },
  {
   "cell_type": "code",
   "execution_count": 14,
   "id": "dd5f00ec-75e8-4f51-bbe6-e4987ee15225",
   "metadata": {},
   "outputs": [
    {
     "name": "stdout",
     "output_type": "stream",
     "text": [
      "20\n",
      "25\n",
      "22\n",
      "24\n",
      "19\n",
      "17\n",
      "22\n"
     ]
    }
   ],
   "source": [
    "for x in X:\n",
    "    print(x)"
   ]
  },
  {
   "cell_type": "code",
   "execution_count": 15,
   "id": "28f25686-480c-4b40-a703-ff9c9e1026c6",
   "metadata": {},
   "outputs": [
    {
     "name": "stdout",
     "output_type": "stream",
     "text": [
      "18\n",
      "29\n",
      "11\n"
     ]
    }
   ],
   "source": [
    "for yi in y:\n",
    "    print(yi)"
   ]
  },
  {
   "cell_type": "code",
   "execution_count": null,
   "id": "8b6b9ae7-4deb-4904-b3e0-9ca679fca717",
   "metadata": {},
   "outputs": [],
   "source": []
  },
  {
   "cell_type": "code",
   "execution_count": null,
   "id": "c3cb5e47-85c5-42de-9173-4aecc2eb566c",
   "metadata": {},
   "outputs": [],
   "source": [
    "def data_prep(base_dir):\n",
    "    "
   ]
  }
 ],
 "metadata": {
  "kernelspec": {
   "display_name": "Python 3 (ipykernel)",
   "language": "python",
   "name": "python3"
  },
  "language_info": {
   "codemirror_mode": {
    "name": "ipython",
    "version": 3
   },
   "file_extension": ".py",
   "mimetype": "text/x-python",
   "name": "python",
   "nbconvert_exporter": "python",
   "pygments_lexer": "ipython3",
   "version": "3.8.10"
  }
 },
 "nbformat": 4,
 "nbformat_minor": 5
}
