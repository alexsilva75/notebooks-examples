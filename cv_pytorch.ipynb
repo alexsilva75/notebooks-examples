{
 "cells": [
  {
   "cell_type": "code",
   "execution_count": 54,
   "id": "3d3932ef-90d6-40fe-b866-fb04a62d51f5",
   "metadata": {},
   "outputs": [
    {
     "data": {
      "text/plain": [
       "'2.1.2+cpu'"
      ]
     },
     "execution_count": 54,
     "metadata": {},
     "output_type": "execute_result"
    }
   ],
   "source": [
    "import torch\n",
    "from torch import nn\n",
    "import torchvision\n",
    "from torchvision import datasets, transforms\n",
    "from torch.utils.data import random_split\n",
    "import numpy as np\n",
    "import cv2\n",
    "\n",
    "import skimage as ski\n",
    "from skimage import color\n",
    "\n",
    "torch.__version__"
   ]
  },
  {
   "cell_type": "code",
   "execution_count": 3,
   "id": "9c3d8577-6a85-4028-af28-6491a8fdfc8d",
   "metadata": {},
   "outputs": [],
   "source": [
    "import os"
   ]
  },
  {
   "cell_type": "code",
   "execution_count": 5,
   "id": "e114e27a-cafe-4fda-a6d2-28f439515f68",
   "metadata": {},
   "outputs": [
    {
     "data": {
      "text/plain": [
       "device(type='cpu')"
      ]
     },
     "execution_count": 5,
     "metadata": {},
     "output_type": "execute_result"
    }
   ],
   "source": [
    "# Setup device-agnostic code\n",
    "device = torch.device( \"cuda\" if torch.cuda.is_available() else \"cpu\")\n",
    "device"
   ]
  },
  {
   "cell_type": "code",
   "execution_count": 46,
   "id": "7f7166a3-6ba8-4515-a17e-ca584915b75f",
   "metadata": {},
   "outputs": [],
   "source": [
    "def transf_to_tensor():\n",
    "    transf = transforms.Compose([transforms.ToTensor()])\n",
    "    return transf"
   ]
  },
  {
   "cell_type": "code",
   "execution_count": 30,
   "id": "3227b0b6-2c82-4ca8-8449-21168f722960",
   "metadata": {},
   "outputs": [],
   "source": [
    "# transfToTensor = transforms.Compose([transforms.ToTensor()])"
   ]
  },
  {
   "cell_type": "code",
   "execution_count": 72,
   "id": "86e1ae1f-f6e2-447c-aa64-656e059d4f8d",
   "metadata": {},
   "outputs": [
    {
     "data": {
      "text/plain": [
       "torch.float32"
      ]
     },
     "execution_count": 72,
     "metadata": {},
     "output_type": "execute_result"
    }
   ],
   "source": [
    "img_path = 'dataset_base/0_Amiloidose/AZAN/0_Amiloidose_AZAN_0.jpg'\n",
    "img = cv2.imread(img_path)\n",
    "img = transf_to_tensor()(img)\n",
    "img.dtype"
   ]
  },
  {
   "cell_type": "code",
   "execution_count": 89,
   "id": "b4f7ec60-2958-4f6b-b130-3cb00c32a7f6",
   "metadata": {},
   "outputs": [
    {
     "data": {
      "text/plain": [
       "torch.Size([3, 768, 1024])"
      ]
     },
     "execution_count": 89,
     "metadata": {},
     "output_type": "execute_result"
    }
   ],
   "source": [
    "img.shape"
   ]
  },
  {
   "cell_type": "code",
   "execution_count": 97,
   "id": "240bd08b-c8ef-4888-89e0-1e41978d35b3",
   "metadata": {},
   "outputs": [
    {
     "data": {
      "text/plain": [
       "tensor([[[0.7294, 0.7333, 0.7216,  ..., 0.8078, 0.8078, 0.8039],\n",
       "         [0.7294, 0.7294, 0.7137,  ..., 0.7882, 0.8000, 0.7922],\n",
       "         [0.7294, 0.7294, 0.7098,  ..., 0.7490, 0.7647, 0.7608],\n",
       "         ...,\n",
       "         [0.7961, 0.7961, 0.7647,  ..., 0.6745, 0.6784, 0.6745],\n",
       "         [0.7804, 0.7922, 0.7647,  ..., 0.6706, 0.6745, 0.6667],\n",
       "         [0.7843, 0.7961, 0.7608,  ..., 0.6706, 0.6706, 0.6667]],\n",
       "\n",
       "        [[0.5804, 0.5804, 0.5608,  ..., 0.6235, 0.6431, 0.6510],\n",
       "         [0.5765, 0.5725, 0.5490,  ..., 0.6000, 0.6235, 0.6353],\n",
       "         [0.5725, 0.5686, 0.5451,  ..., 0.5451, 0.5765, 0.5922],\n",
       "         ...,\n",
       "         [0.5529, 0.5412, 0.4667,  ..., 0.4941, 0.4863, 0.4824],\n",
       "         [0.5255, 0.5176, 0.4510,  ..., 0.4902, 0.4824, 0.4745],\n",
       "         [0.5216, 0.5137, 0.4431,  ..., 0.4902, 0.4784, 0.4706]],\n",
       "\n",
       "        [[0.6510, 0.6667, 0.6706,  ..., 0.6353, 0.6471, 0.6431],\n",
       "         [0.6627, 0.6706, 0.6706,  ..., 0.6235, 0.6353, 0.6392],\n",
       "         [0.6824, 0.6784, 0.6667,  ..., 0.5843, 0.6000, 0.6039],\n",
       "         ...,\n",
       "         [0.5098, 0.5059, 0.4706,  ..., 0.6745, 0.6824, 0.6784],\n",
       "         [0.4902, 0.4902, 0.4549,  ..., 0.6745, 0.6863, 0.6784],\n",
       "         [0.4863, 0.4863, 0.4549,  ..., 0.6745, 0.6824, 0.6824]]])"
      ]
     },
     "execution_count": 97,
     "metadata": {},
     "output_type": "execute_result"
    }
   ],
   "source": [
    "img"
   ]
  },
  {
   "cell_type": "code",
   "execution_count": 95,
   "id": "94196435-161f-4572-8dcf-9f276bfbe405",
   "metadata": {},
   "outputs": [
    {
     "data": {
      "text/plain": [
       "torch.Size([3, 768, 1024])"
      ]
     },
     "execution_count": 95,
     "metadata": {},
     "output_type": "execute_result"
    }
   ],
   "source": [
    "img2 = ski.io.imread(img_path)\n",
    "img2 = color.rgb2hed(img2)\n",
    "img2 = transf_to_tensor()(img2)\n",
    "# img2 = img2.squeeze()\n",
    "img2.shape"
   ]
  },
  {
   "cell_type": "code",
   "execution_count": 88,
   "id": "3961ffcd-36f3-4ecb-9e11-0b0e8fcb12a1",
   "metadata": {},
   "outputs": [
    {
     "data": {
      "text/plain": [
       "torch.float32"
      ]
     },
     "execution_count": 88,
     "metadata": {},
     "output_type": "execute_result"
    }
   ],
   "source": [
    "img2.dtype"
   ]
  },
  {
   "cell_type": "code",
   "execution_count": 96,
   "id": "fed942e3-43dd-4f78-bb02-f8daefb4c552",
   "metadata": {},
   "outputs": [
    {
     "data": {
      "text/plain": [
       "tensor([[[0.0420, 0.0390, 0.0373,  ..., 0.0501, 0.0478, 0.0484],\n",
       "         [0.0395, 0.0379, 0.0368,  ..., 0.0514, 0.0497, 0.0485],\n",
       "         [0.0355, 0.0363, 0.0373,  ..., 0.0576, 0.0551, 0.0541],\n",
       "         ...,\n",
       "         [0.0788, 0.0798, 0.0871,  ..., 0.0330, 0.0316, 0.0321],\n",
       "         [0.0830, 0.0836, 0.0916,  ..., 0.0327, 0.0305, 0.0315],\n",
       "         [0.0843, 0.0849, 0.0913,  ..., 0.0327, 0.0310, 0.0307]],\n",
       "\n",
       "        [[0.0024, 0.0043, 0.0070,  ..., 0.0000, 0.0000, 0.0000],\n",
       "         [0.0043, 0.0057, 0.0084,  ..., 0.0000, 0.0000, 0.0000],\n",
       "         [0.0070, 0.0071, 0.0083,  ..., 0.0006, 0.0000, 0.0000],\n",
       "         ...,\n",
       "         [0.0000, 0.0000, 0.0000,  ..., 0.0155, 0.0178, 0.0179],\n",
       "         [0.0000, 0.0000, 0.0000,  ..., 0.0159, 0.0187, 0.0188],\n",
       "         [0.0000, 0.0000, 0.0000,  ..., 0.0159, 0.0188, 0.0199]],\n",
       "\n",
       "        [[0.0133, 0.0137, 0.0154,  ..., 0.0014, 0.0025, 0.0029],\n",
       "         [0.0140, 0.0144, 0.0164,  ..., 0.0031, 0.0025, 0.0041],\n",
       "         [0.0151, 0.0148, 0.0168,  ..., 0.0053, 0.0046, 0.0057],\n",
       "         ...,\n",
       "         [0.0000, 0.0000, 0.0000,  ..., 0.0221, 0.0217, 0.0221],\n",
       "         [0.0000, 0.0000, 0.0000,  ..., 0.0227, 0.0225, 0.0233],\n",
       "         [0.0000, 0.0000, 0.0000,  ..., 0.0227, 0.0229, 0.0234]]],\n",
       "       dtype=torch.float64)"
      ]
     },
     "execution_count": 96,
     "metadata": {},
     "output_type": "execute_result"
    }
   ],
   "source": [
    "img2"
   ]
  },
  {
   "cell_type": "code",
   "execution_count": 71,
   "id": "1b03103d-1919-4987-b3d7-77a7a6921f70",
   "metadata": {},
   "outputs": [
    {
     "ename": "error",
     "evalue": "OpenCV(4.9.0) :-1: error: (-5:Bad argument) in function 'cvtColor'\n> Overload resolution failed:\n>  - src is not a numpy array, neither a scalar\n>  - Expected Ptr<cv::UMat> for argument 'src'\n",
     "output_type": "error",
     "traceback": [
      "\u001b[1;31m---------------------------------------------------------------------------\u001b[0m",
      "\u001b[1;31merror\u001b[0m                                     Traceback (most recent call last)",
      "Cell \u001b[1;32mIn[71], line 1\u001b[0m\n\u001b[1;32m----> 1\u001b[0m hsv_img \u001b[38;5;241m=\u001b[39m \u001b[43mcv2\u001b[49m\u001b[38;5;241;43m.\u001b[39;49m\u001b[43mcvtColor\u001b[49m\u001b[43m(\u001b[49m\u001b[43mimg\u001b[49m\u001b[43m,\u001b[49m\u001b[43m \u001b[49m\u001b[43mcv2\u001b[49m\u001b[38;5;241;43m.\u001b[39;49m\u001b[43mCOLOR_BGR2HSV\u001b[49m\u001b[43m)\u001b[49m\n\u001b[0;32m      2\u001b[0m hsv_img \u001b[38;5;241m=\u001b[39m transfToTensor(hsv_img)\n\u001b[0;32m      3\u001b[0m hsv_img \u001b[38;5;241m=\u001b[39m hsv_img\u001b[38;5;241m.\u001b[39mpermute(\u001b[38;5;241m1\u001b[39m,\u001b[38;5;241m2\u001b[39m,\u001b[38;5;241m0\u001b[39m)\n",
      "\u001b[1;31merror\u001b[0m: OpenCV(4.9.0) :-1: error: (-5:Bad argument) in function 'cvtColor'\n> Overload resolution failed:\n>  - src is not a numpy array, neither a scalar\n>  - Expected Ptr<cv::UMat> for argument 'src'\n"
     ]
    }
   ],
   "source": [
    "hsv_img = cv2.cvtColor(img, cv2.COLOR_BGR2HSV)\n",
    "hsv_img = transfToTensor(hsv_img)\n",
    "hsv_img = hsv_img.permute(1,2,0)\n",
    "hsv_img"
   ]
  },
  {
   "cell_type": "code",
   "execution_count": 107,
   "id": "9d3aa71d-0673-4888-8e2a-0504f444c79a",
   "metadata": {},
   "outputs": [],
   "source": [
    "data_path = 'dataset_run'\n",
    "classes = 0"
   ]
  },
  {
   "cell_type": "code",
   "execution_count": 108,
   "id": "304100d7-9e2a-4223-b1f2-3694d2256314",
   "metadata": {},
   "outputs": [],
   "source": [
    "dataset2 = datasets.ImageFolder(root=data_path, transform=transforms.Compose([transforms.ToTensor()]))"
   ]
  },
  {
   "cell_type": "code",
   "execution_count": 73,
   "id": "cee4edfb-3540-4441-8a65-7cb587270666",
   "metadata": {},
   "outputs": [
    {
     "data": {
      "text/plain": [
       "torch.float32"
      ]
     },
     "execution_count": 73,
     "metadata": {},
     "output_type": "execute_result"
    }
   ],
   "source": [
    "dataset2[0][0].dtype"
   ]
  },
  {
   "cell_type": "code",
   "execution_count": 110,
   "id": "5a538ab5-465e-4ebe-85d2-201095d841e5",
   "metadata": {},
   "outputs": [],
   "source": [
    "# for img, label in dataset2:\n",
    "#     print(img.shape)"
   ]
  },
  {
   "cell_type": "code",
   "execution_count": 111,
   "id": "5af6ccc8-3d29-44d6-ab5b-39e58ebc5a16",
   "metadata": {},
   "outputs": [
    {
     "data": {
      "text/plain": [
       "1"
      ]
     },
     "execution_count": 111,
     "metadata": {},
     "output_type": "execute_result"
    }
   ],
   "source": [
    "import math\n",
    "math.ceil(0.2)"
   ]
  },
  {
   "cell_type": "code",
   "execution_count": 69,
   "id": "13d30d39-59d9-4ee9-92a0-1254707264e8",
   "metadata": {},
   "outputs": [
    {
     "data": {
      "text/plain": [
       "tensor([[[0.6510, 0.6667, 0.6706,  ..., 0.6353, 0.6471, 0.6431],\n",
       "         [0.6627, 0.6706, 0.6706,  ..., 0.6235, 0.6353, 0.6392],\n",
       "         [0.6824, 0.6784, 0.6667,  ..., 0.5843, 0.6000, 0.6039],\n",
       "         ...,\n",
       "         [0.5098, 0.5059, 0.4706,  ..., 0.6745, 0.6824, 0.6784],\n",
       "         [0.4902, 0.4902, 0.4549,  ..., 0.6745, 0.6863, 0.6784],\n",
       "         [0.4863, 0.4863, 0.4549,  ..., 0.6745, 0.6824, 0.6824]],\n",
       "\n",
       "        [[0.5804, 0.5804, 0.5608,  ..., 0.6235, 0.6431, 0.6510],\n",
       "         [0.5765, 0.5725, 0.5490,  ..., 0.6000, 0.6235, 0.6353],\n",
       "         [0.5725, 0.5686, 0.5451,  ..., 0.5451, 0.5765, 0.5922],\n",
       "         ...,\n",
       "         [0.5529, 0.5412, 0.4667,  ..., 0.4941, 0.4863, 0.4824],\n",
       "         [0.5255, 0.5176, 0.4510,  ..., 0.4902, 0.4824, 0.4745],\n",
       "         [0.5216, 0.5137, 0.4431,  ..., 0.4902, 0.4784, 0.4706]],\n",
       "\n",
       "        [[0.7294, 0.7333, 0.7216,  ..., 0.8078, 0.8078, 0.8039],\n",
       "         [0.7294, 0.7294, 0.7137,  ..., 0.7882, 0.8000, 0.7922],\n",
       "         [0.7294, 0.7294, 0.7098,  ..., 0.7490, 0.7647, 0.7608],\n",
       "         ...,\n",
       "         [0.7961, 0.7961, 0.7647,  ..., 0.6745, 0.6784, 0.6745],\n",
       "         [0.7804, 0.7922, 0.7647,  ..., 0.6706, 0.6745, 0.6667],\n",
       "         [0.7843, 0.7961, 0.7608,  ..., 0.6706, 0.6706, 0.6667]]])"
      ]
     },
     "execution_count": 69,
     "metadata": {},
     "output_type": "execute_result"
    }
   ],
   "source": [
    "dataset2[0][0]"
   ]
  },
  {
   "cell_type": "code",
   "execution_count": 49,
   "id": "87b251ab-7c50-432e-a289-d10cfe2ffb5f",
   "metadata": {},
   "outputs": [],
   "source": [
    "def hsv_image_loader(image_path):\n",
    "    img = cv2.imread(image_path)\n",
    "    hsv_img = cv2.cvtColor(img, cv2.COLOR_BGR2HSV)\n",
    "    hsv_img = transf_to_tensor()(hsv_img)\n",
    "    hsv_img = hsv_img.permute(1,2,0)\n",
    "    return hsv_img"
   ]
  },
  {
   "cell_type": "code",
   "execution_count": null,
   "id": "cbb025f8-7237-44c9-a210-dda46daeb689",
   "metadata": {},
   "outputs": [],
   "source": []
  },
  {
   "cell_type": "code",
   "execution_count": 63,
   "id": "35162160-412a-4f3c-8262-51708df83dfa",
   "metadata": {},
   "outputs": [],
   "source": [
    "def hed_image_loader(image_path):\n",
    "    img = ski.io.imread(image_path)\n",
    "    hed_img = color.rgb2hed(img)\n",
    "    hed_img = transf_to_tensor()(hed_img)\n",
    "    # hed_img = hed_img.permute(1, 2, 0)\n",
    "    return hed_img"
   ]
  },
  {
   "cell_type": "code",
   "execution_count": 64,
   "id": "1c441105-2c30-45c7-8574-170a18dd2dbf",
   "metadata": {},
   "outputs": [],
   "source": [
    "dataset = datasets.ImageFolder(root=data_path, loader=hed_image_loader)"
   ]
  },
  {
   "cell_type": "code",
   "execution_count": 70,
   "id": "ab599bc3-c34d-479a-b702-e82f12c3f8aa",
   "metadata": {},
   "outputs": [
    {
     "ename": "AttributeError",
     "evalue": "'ImageFolder' object has no attribute 'dtype'",
     "output_type": "error",
     "traceback": [
      "\u001b[1;31m---------------------------------------------------------------------------\u001b[0m",
      "\u001b[1;31mAttributeError\u001b[0m                            Traceback (most recent call last)",
      "Cell \u001b[1;32mIn[70], line 1\u001b[0m\n\u001b[1;32m----> 1\u001b[0m \u001b[43mdataset\u001b[49m\u001b[38;5;241;43m.\u001b[39;49m\u001b[43mdtype\u001b[49m\n",
      "\u001b[1;31mAttributeError\u001b[0m: 'ImageFolder' object has no attribute 'dtype'"
     ]
    }
   ],
   "source": [
    "dataset.dtype"
   ]
  },
  {
   "cell_type": "code",
   "execution_count": 66,
   "id": "4ebf442b-f0d8-4cb0-8465-49d1979818bd",
   "metadata": {},
   "outputs": [
    {
     "data": {
      "text/plain": [
       "torch.Size([3, 768, 1024])"
      ]
     },
     "execution_count": 66,
     "metadata": {},
     "output_type": "execute_result"
    }
   ],
   "source": [
    "dataset[0][0].shape"
   ]
  },
  {
   "cell_type": "code",
   "execution_count": 67,
   "id": "a857c444-7d1c-4d3f-865c-3c3ea26a444b",
   "metadata": {},
   "outputs": [
    {
     "data": {
      "text/plain": [
       "tensor([[[0.0420, 0.0390, 0.0373,  ..., 0.0501, 0.0478, 0.0484],\n",
       "         [0.0395, 0.0379, 0.0368,  ..., 0.0514, 0.0497, 0.0485],\n",
       "         [0.0355, 0.0363, 0.0373,  ..., 0.0576, 0.0551, 0.0541],\n",
       "         ...,\n",
       "         [0.0788, 0.0798, 0.0871,  ..., 0.0330, 0.0316, 0.0321],\n",
       "         [0.0830, 0.0836, 0.0916,  ..., 0.0327, 0.0305, 0.0315],\n",
       "         [0.0843, 0.0849, 0.0913,  ..., 0.0327, 0.0310, 0.0307]],\n",
       "\n",
       "        [[0.0024, 0.0043, 0.0070,  ..., 0.0000, 0.0000, 0.0000],\n",
       "         [0.0043, 0.0057, 0.0084,  ..., 0.0000, 0.0000, 0.0000],\n",
       "         [0.0070, 0.0071, 0.0083,  ..., 0.0006, 0.0000, 0.0000],\n",
       "         ...,\n",
       "         [0.0000, 0.0000, 0.0000,  ..., 0.0155, 0.0178, 0.0179],\n",
       "         [0.0000, 0.0000, 0.0000,  ..., 0.0159, 0.0187, 0.0188],\n",
       "         [0.0000, 0.0000, 0.0000,  ..., 0.0159, 0.0188, 0.0199]],\n",
       "\n",
       "        [[0.0133, 0.0137, 0.0154,  ..., 0.0014, 0.0025, 0.0029],\n",
       "         [0.0140, 0.0144, 0.0164,  ..., 0.0031, 0.0025, 0.0041],\n",
       "         [0.0151, 0.0148, 0.0168,  ..., 0.0053, 0.0046, 0.0057],\n",
       "         ...,\n",
       "         [0.0000, 0.0000, 0.0000,  ..., 0.0221, 0.0217, 0.0221],\n",
       "         [0.0000, 0.0000, 0.0000,  ..., 0.0227, 0.0225, 0.0233],\n",
       "         [0.0000, 0.0000, 0.0000,  ..., 0.0227, 0.0229, 0.0234]]],\n",
       "       dtype=torch.float64)"
      ]
     },
     "execution_count": 67,
     "metadata": {},
     "output_type": "execute_result"
    }
   ],
   "source": [
    "dataset[0][0]"
   ]
  },
  {
   "cell_type": "code",
   "execution_count": 43,
   "id": "5f3c79f9-aebb-4436-bd61-2e0bc17ebd2a",
   "metadata": {},
   "outputs": [
    {
     "data": {
      "text/plain": [
       "['1_Normal', '0_Amiloidose']"
      ]
     },
     "execution_count": 43,
     "metadata": {},
     "output_type": "execute_result"
    }
   ],
   "source": [
    "classes"
   ]
  },
  {
   "cell_type": "code",
   "execution_count": 37,
   "id": "a04451da-eefb-4d78-8378-fd73bf33b8f1",
   "metadata": {},
   "outputs": [
    {
     "data": {
      "text/plain": [
       "7"
      ]
     },
     "execution_count": 37,
     "metadata": {},
     "output_type": "execute_result"
    }
   ],
   "source": [
    "seed = np.random.randint(10)\n",
    "seed"
   ]
  },
  {
   "cell_type": "code",
   "execution_count": null,
   "id": "61f41d5e-64a2-4bf4-a238-4e0243387fb1",
   "metadata": {},
   "outputs": [],
   "source": []
  },
  {
   "cell_type": "code",
   "execution_count": 1,
   "id": "b47ebd1f-69a9-4b33-9cda-78aa400c5257",
   "metadata": {},
   "outputs": [],
   "source": [
    "# X_generator = torch.Generator().manual_seed(seed)\n",
    "# X_train, X_test = random_split(X, [0.7 * len(X), 0.3 * len(X)], generator=X_generator)\n",
    "\n",
    "# X_test"
   ]
  },
  {
   "cell_type": "code",
   "execution_count": null,
   "id": "2f43fad8-7997-47b7-b392-3dcc9f8836e6",
   "metadata": {},
   "outputs": [],
   "source": [
    "y_generator = torch.Generator().manual_seed(seed)\n"
   ]
  },
  {
   "cell_type": "code",
   "execution_count": 14,
   "id": "dd5f00ec-75e8-4f51-bbe6-e4987ee15225",
   "metadata": {},
   "outputs": [
    {
     "name": "stdout",
     "output_type": "stream",
     "text": [
      "20\n",
      "25\n",
      "22\n",
      "24\n",
      "19\n",
      "17\n",
      "22\n"
     ]
    }
   ],
   "source": [
    "for x in X:\n",
    "    print(x)"
   ]
  },
  {
   "cell_type": "code",
   "execution_count": 15,
   "id": "28f25686-480c-4b40-a703-ff9c9e1026c6",
   "metadata": {},
   "outputs": [
    {
     "name": "stdout",
     "output_type": "stream",
     "text": [
      "18\n",
      "29\n",
      "11\n"
     ]
    }
   ],
   "source": [
    "for yi in y:\n",
    "    print(yi)"
   ]
  },
  {
   "cell_type": "code",
   "execution_count": null,
   "id": "8b6b9ae7-4deb-4904-b3e0-9ca679fca717",
   "metadata": {},
   "outputs": [],
   "source": []
  },
  {
   "cell_type": "code",
   "execution_count": null,
   "id": "c3cb5e47-85c5-42de-9173-4aecc2eb566c",
   "metadata": {},
   "outputs": [],
   "source": [
    "def data_prep(base_dir):\n",
    "    "
   ]
  },
  {
   "cell_type": "code",
   "execution_count": 74,
   "id": "2796e986-b7ee-4357-a693-d86e0bd8f3b1",
   "metadata": {},
   "outputs": [],
   "source": [
    "device = torch.device('cuda' if torch.cuda.is_available() else 'cpu')"
   ]
  },
  {
   "cell_type": "code",
   "execution_count": 75,
   "id": "d20b5542-90c7-4aa8-8e60-4cd5d954e1d8",
   "metadata": {},
   "outputs": [],
   "source": [
    "def hsv_img_loader_fn(device):\n",
    "    def hsv_image_loader(image_path):\n",
    "        img = cv2.imread(image_path)\n",
    "        hsv_img = cv2.cvtColor(img, cv2.COLOR_BGR2HSV)\n",
    "        hsv_img = transf_to_tensor()(hsv_img)\n",
    "        # hsv_img = hsv_img.permute(1,2,0)\n",
    "        return hsv_img.to(device)\n",
    "    \n",
    "    return hsv_image_loader"
   ]
  },
  {
   "cell_type": "code",
   "execution_count": 76,
   "id": "2a5bc346-53b8-4d77-9c3f-5c6f481b96c0",
   "metadata": {},
   "outputs": [],
   "source": [
    "hsv_fn = hsv_img_loader_fn(device)"
   ]
  },
  {
   "cell_type": "code",
   "execution_count": 78,
   "id": "6bc9aa56-5936-4a00-a63b-9a8e76c20148",
   "metadata": {},
   "outputs": [
    {
     "data": {
      "text/plain": [
       "torch.float32"
      ]
     },
     "execution_count": 78,
     "metadata": {},
     "output_type": "execute_result"
    }
   ],
   "source": [
    "tensor_img = hsv_fn(img_path)\n",
    "tensor_img.dtype"
   ]
  }
 ],
 "metadata": {
  "kernelspec": {
   "display_name": "Python 3 (ipykernel)",
   "language": "python",
   "name": "python3"
  },
  "language_info": {
   "codemirror_mode": {
    "name": "ipython",
    "version": 3
   },
   "file_extension": ".py",
   "mimetype": "text/x-python",
   "name": "python",
   "nbconvert_exporter": "python",
   "pygments_lexer": "ipython3",
   "version": "3.11.7"
  }
 },
 "nbformat": 4,
 "nbformat_minor": 5
}
