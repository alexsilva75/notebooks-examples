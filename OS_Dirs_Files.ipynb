{
 "cells": [
  {
   "cell_type": "code",
   "execution_count": 65,
   "id": "d9cfcfb4-2ed7-4ac8-b05d-d9346f957a42",
   "metadata": {},
   "outputs": [],
   "source": [
    "import os\n",
    "import numpy as np"
   ]
  },
  {
   "cell_type": "code",
   "execution_count": 23,
   "id": "c0fcc58d-c31c-4cab-b188-20ebebf781d5",
   "metadata": {},
   "outputs": [
    {
     "data": {
      "text/plain": [
       "['0_Amiloidose',\n",
       " '1_Normal',\n",
       " '2_Esclerose_Pura_Sem_Crescente',\n",
       " '3_Hipercelularidade',\n",
       " '4_Hipercelularidade_Pura_Sem_Crescente']"
      ]
     },
     "execution_count": 23,
     "metadata": {},
     "output_type": "execute_result"
    }
   ],
   "source": [
    "base_dir = 'dataset_base'\n",
    "classes = os.listdir(base_dir)\n",
    "# classes.reverse()\n",
    "classes = sorted(classes)\n",
    "classes"
   ]
  },
  {
   "cell_type": "code",
   "execution_count": 66,
   "id": "d09c8496-9f5f-4106-a06a-b30d73eb27f3",
   "metadata": {},
   "outputs": [],
   "source": [
    "def load_dataset(base_dir):\n",
    "    \n",
    "    shuffle=True\n",
    "    X = []\n",
    "    Y = []\n",
    "    processed_image_count = 0\n",
    "    classes = 0\n",
    "    for root, subdirs, files in os.walk(base_dir):\n",
    "        if subdirs:\n",
    "            classes = subdirs\n",
    "            print (\"[INFO] Processando classe \", classes)\n",
    "        for filename in files:\n",
    "            file_path = os.path.join(root, filename)\n",
    "            # if file_path.startswith(base_dir) is false then AssertionError\n",
    "            assert file_path.startswith(base_dir)\n",
    "            suffix = file_path[len(base_dir):]\n",
    "            suffix = suffix.lstrip(os.sep)\n",
    "            label = suffix.split(os.sep)[0]\n",
    "\n",
    "            #print(\"label: \", label)\n",
    "            #print(\"Classes: \", classes.index(label))\n",
    "            \n",
    "            X.append(file_path)\n",
    "            Y.append(classes.index(label))\n",
    "    \n",
    "    X = np.array(X)\n",
    "    Y = np.array(Y)\n",
    "        \n",
    "    return X, Y"
   ]
  },
  {
   "cell_type": "code",
   "execution_count": 67,
   "id": "32850136-ee74-4948-823e-9be373f7a317",
   "metadata": {},
   "outputs": [
    {
     "name": "stdout",
     "output_type": "stream",
     "text": [
      "[INFO] Processando classe  ['0_Amiloidose', '1_Non_Amiloidose']\n"
     ]
    },
    {
     "data": {
      "text/plain": [
       "(array(['data/base/0_Amiloidose/0_Amiloidose_AZAN_9.jpg',\n",
       "        'data/base/0_Amiloidose/0_Amiloidose_PAMS_65.jpg',\n",
       "        'data/base/0_Amiloidose/0_Amiloidose_HE_59.jpg', ...,\n",
       "        'data/base/1_Non_Amiloidose/3_Hipercelularidade_HE_5.jpg',\n",
       "        'data/base/1_Non_Amiloidose/1_Normal_HE_497.jpg',\n",
       "        'data/base/1_Non_Amiloidose/3_Hipercelularidade_HE_576.jpg'],\n",
       "       dtype='<U77'),\n",
       " array([0, 0, 0, ..., 1, 1, 1]))"
      ]
     },
     "execution_count": 67,
     "metadata": {},
     "output_type": "execute_result"
    }
   ],
   "source": [
    "load_dataset('data/base')"
   ]
  },
  {
   "cell_type": "code",
   "execution_count": null,
   "id": "244488c5-8ec5-42ea-afae-1f4de9aae701",
   "metadata": {},
   "outputs": [],
   "source": [
    "def create_file_list(base_dir):\n",
    "    \n",
    "    shuffle=True\n",
    "    X = []\n",
    "    Y = []\n",
    "    processed_image_count = 0\n",
    "    classes = 0\n",
    "    for root, subdirs, files in os.walk(base_dir):\n",
    "        for filename in files:\n",
    "            file_path = os.path.join(root, filename)\n",
    "            # if file_path.startswith(base_dir) is false then AssertionError\n",
    "            assert file_path.startswith(base_dir)\n",
    "            suffix = file_path[len(base_dir):]\n",
    "            suffix = suffix.lstrip(os.sep)\n",
    "            label = suffix.split(os.sep)[0]\n",
    "\n",
    "            #print(\"label: \", label)\n",
    "            #print(\"Classes: \", classes.index(label))\n",
    "            \n",
    "            X.append(file_path)\n",
    "            Y.append(classes.index(label))\n",
    "    \n",
    "    X = np.array(X)\n",
    "    Y = np.array(Y)\n",
    "        \n",
    "    return X, Y"
   ]
  },
  {
   "cell_type": "code",
   "execution_count": 4,
   "id": "1119b2b5-955e-4c8f-941e-ac35f7d88077",
   "metadata": {},
   "outputs": [
    {
     "data": {
      "text/plain": [
       "'/home/alexsandro/dev/notebooks-examples'"
      ]
     },
     "execution_count": 4,
     "metadata": {},
     "output_type": "execute_result"
    }
   ],
   "source": [
    "os.path.realpath('.')"
   ]
  },
  {
   "cell_type": "code",
   "execution_count": 39,
   "id": "435763e3-fc3b-4f76-a0b3-3eec45c868ce",
   "metadata": {},
   "outputs": [],
   "source": [
    "import shutil\n",
    "from os import path\n",
    "y = []\n",
    "positive_class = '0_Amiloidose'\n",
    "negative_class = '1_Non_Amiloidose'\n",
    "dest_base_dir = 'data'\n",
    "type_dir = 'train'\n",
    "dest_dir = dest_base_dir + os.sep + type_dir\n",
    "\n",
    "if path.exists(dest_dir):\n",
    "    shutil.rmtree(dest_dir)\n",
    "\n",
    "for root, subdirs, files in os.walk(base_dir):    \n",
    "    for filename in files:\n",
    "        copy_from = os.path.join(root, filename)\n",
    "        assert copy_from.startswith(base_dir)\n",
    "        # print(f\"Copy from: {copy_from}\")\n",
    "        suffix = copy_from[len(base_dir):]        \n",
    "        suffix = suffix.lstrip(os.sep)\n",
    "        \n",
    "        suffix_parts = suffix.split(os.sep)\n",
    "        label = suffix_parts[0]\n",
    "        img_file = suffix_parts[-1]\n",
    "        # print(f\"Label: {label}\")\n",
    "        # print(f\"File name: {img_file}\")\n",
    "\n",
    "        if label == positive_class:\n",
    "            copy_to_dir = dest_base_dir + os.sep + type_dir + os.sep + label\n",
    "            copy_to = copy_to_dir + os.sep + img_file\n",
    "        else:\n",
    "            copy_to_dir = dest_base_dir + os.sep + type_dir + os.sep + negative_class \n",
    "            copy_to = copy_to_dir + os.sep + img_file\n",
    "\n",
    "        if not path.exists(copy_to_dir):\n",
    "            os.makedirs(copy_to_dir)\n",
    "\n",
    "        shutil.copy(copy_from, copy_to)"
   ]
  },
  {
   "cell_type": "code",
   "execution_count": 40,
   "id": "5d03b147-a7a6-4088-a08b-47b1a14e2575",
   "metadata": {},
   "outputs": [],
   "source": [
    "import random\n",
    "positive_class = '0_Amiloidose'\n",
    "negative_class = '1_Non_Amiloidose'"
   ]
  },
  {
   "cell_type": "code",
   "execution_count": 9,
   "id": "c112c903-6a50-4e34-af0f-aad006823aef",
   "metadata": {},
   "outputs": [],
   "source": [
    "# stain_list = ['AZAN', 'HE', 'PAMS', 'PAS']"
   ]
  },
  {
   "cell_type": "code",
   "execution_count": 44,
   "id": "3447cf26-d6c9-44a1-976a-3a163238d00c",
   "metadata": {},
   "outputs": [],
   "source": [
    "def data_prep_base(\n",
    "        base_dir = 'dataset_base', \n",
    "        dest_dir='data/base',\n",
    "        positive_class='0_Amiloidose', \n",
    "        negative_class=negative_class,\n",
    "        \n",
    "        ):\n",
    "    \n",
    "    if path.exists(dest_dir):\n",
    "        shutil.rmtree(dest_dir)\n",
    "    \n",
    "    for root, subdirs, files in os.walk(base_dir):    \n",
    "        for filename in files:\n",
    "            copy_from = os.path.join(root, filename)\n",
    "            assert copy_from.startswith(base_dir)\n",
    "            # print(f\"Copy from: {copy_from}\")\n",
    "            suffix = copy_from[len(base_dir):]        \n",
    "            suffix = suffix.lstrip(os.sep)\n",
    "            \n",
    "            suffix_parts = suffix.split(os.sep)\n",
    "            label = suffix_parts[0]\n",
    "            img_file = suffix_parts[-1]\n",
    "            # print(f\"Label: {label}\")\n",
    "            # print(f\"File name: {img_file}\")\n",
    "    \n",
    "            if label == positive_class:\n",
    "                copy_to_dir = dest_dir + os.sep + label\n",
    "                copy_to = copy_to_dir + os.sep + img_file\n",
    "            else:\n",
    "                copy_to_dir = dest_dir + os.sep + negative_class \n",
    "                copy_to = copy_to_dir + os.sep + img_file\n",
    "    \n",
    "            if not path.exists(copy_to_dir):\n",
    "                os.makedirs(copy_to_dir)\n",
    "    \n",
    "            shutil.copy(copy_from, copy_to)"
   ]
  },
  {
   "cell_type": "code",
   "execution_count": 45,
   "id": "c6872d72-c3dd-4ef9-9ff2-4b365f00d16a",
   "metadata": {},
   "outputs": [],
   "source": [
    "data_prep_base()"
   ]
  },
  {
   "cell_type": "code",
   "execution_count": 46,
   "id": "3aa5d41d-6416-4538-86c9-516f340fcef9",
   "metadata": {},
   "outputs": [
    {
     "data": {
      "text/plain": [
       "Dataset ImageFolder\n",
       "    Number of datapoints: 4390\n",
       "    Root location: data/base"
      ]
     },
     "execution_count": 46,
     "metadata": {},
     "output_type": "execute_result"
    }
   ],
   "source": [
    "# from torchvision import datasets\n",
    "\n",
    "# img_dataset = datasets.ImageFolder(root='data/base')\n",
    "# img_dataset"
   ]
  },
  {
   "cell_type": "code",
   "execution_count": 48,
   "id": "e7057d44-85f4-4f39-9cf4-3651ce8ea88a",
   "metadata": {},
   "outputs": [
    {
     "data": {
      "text/plain": [
       "['0_Amiloidose', '1_Non_Amiloidose']"
      ]
     },
     "execution_count": 48,
     "metadata": {},
     "output_type": "execute_result"
    }
   ],
   "source": [
    "# img_dataset.classes"
   ]
  },
  {
   "cell_type": "code",
   "execution_count": 49,
   "id": "5d773f5a-ae12-45bf-b9c9-25323f1d84c5",
   "metadata": {},
   "outputs": [],
   "source": [
    "# from torch.utils.data import random_split"
   ]
  },
  {
   "cell_type": "code",
   "execution_count": 50,
   "id": "7679521e-1716-4f2e-8243-253a32fb66a3",
   "metadata": {},
   "outputs": [],
   "source": [
    "# train_set, test_set, val_test = random_split(img_dataset, [0.6, 0.2, 0.2])"
   ]
  },
  {
   "cell_type": "code",
   "execution_count": 58,
   "id": "45b36791-93b2-4333-93cf-61920a20fd44",
   "metadata": {},
   "outputs": [],
   "source": [
    "# train_set"
   ]
  },
  {
   "cell_type": "code",
   "execution_count": 59,
   "id": "c7e26164-6079-426d-a956-703fc17e828b",
   "metadata": {},
   "outputs": [],
   "source": [
    "# test_set"
   ]
  },
  {
   "cell_type": "code",
   "execution_count": 60,
   "id": "1fa8a940-42a5-4f49-b904-f5a029ec9053",
   "metadata": {},
   "outputs": [],
   "source": [
    "# val_test"
   ]
  },
  {
   "cell_type": "code",
   "execution_count": 61,
   "id": "43fd0ee7-dbdb-4d1c-a66e-7b78e47a1c9a",
   "metadata": {},
   "outputs": [],
   "source": [
    "from sklearn.model_selection import StratifiedKFold\n",
    "from sklearn.model_selection import train_test_split\n",
    "from sklearn.model_selection import StratifiedShuffleSplit"
   ]
  },
  {
   "cell_type": "code",
   "execution_count": 68,
   "id": "9a49ac33-eed4-4c45-9f53-f5d9d0f30894",
   "metadata": {},
   "outputs": [
    {
     "data": {
      "text/plain": [
       "['0_Amiloidose',\n",
       " '1_Normal',\n",
       " '2_Esclerose_Pura_Sem_Crescente',\n",
       " '3_Hipercelularidade',\n",
       " '4_Hipercelularidade_Pura_Sem_Crescente']"
      ]
     },
     "execution_count": 68,
     "metadata": {},
     "output_type": "execute_result"
    }
   ],
   "source": [
    "classes"
   ]
  },
  {
   "cell_type": "code",
   "execution_count": 75,
   "id": "3b7eb4d6-278d-490c-b002-aafa9cc65bb3",
   "metadata": {},
   "outputs": [],
   "source": [
    "def create_fold(sub_X, sub_y, fold_index, base_folder, dest_folder):\n",
    "    index = 0\n",
    "    for img in sub_X:\n",
    "        label = int(sub_y[index])\n",
    "        filename = os.path.basename(img)\n",
    "        save_folder = base_folder + os.sep + 'fold' + str(fold_index + 1) +os.sep + dest_folder + os.sep\n",
    "\n",
    "        if label == 1:\n",
    "            save_folder = save_folder + negative_class + os.sep\n",
    "        elif label == 0:\n",
    "            save_folder = save_folder + positive_class + os.sep\n",
    "\n",
    "        if not os.path.exists(str(save_folder)):\n",
    "            os.makedirs(os.path.dirname(str(save_folder)))\n",
    "\n",
    "        save_file = save_folder + filename\n",
    "        save_file = str(save_file)\n",
    "        shutil.copy(img,save_file)\n",
    "        index += 1"
   ]
  },
  {
   "cell_type": "code",
   "execution_count": 76,
   "id": "e9657f5c-79ef-44f1-8c8d-b9c1681f8cd7",
   "metadata": {},
   "outputs": [],
   "source": [
    "def generate_Kfolds(base_dir='data/base', K=5):\n",
    "    X, y = load_dataset(base_dir)\n",
    "    print(f\"X: {str(X.shape[0])} Amostras\")\n",
    "    print(f\"y: {str(y.shape[0])} Amostras\")\n",
    "\n",
    "    base_folder = base_dir\n",
    "\n",
    "    sss = StratifiedShuffleSplit(n_splits=1, test_size=0.25, random_state=0)\n",
    "\n",
    "    for train_index, test_index in sss.split(X, y):\n",
    "        xtrain_aux, xtest = X[train_index], X[test_index]\n",
    "        ytrain_aux, ytest = y[train_index], y[test_index]\n",
    "\n",
    "    print(f\"Test set: {str(xtest.shape[0])} images. \\n\")\n",
    "\n",
    "    index = 0\n",
    "    for img in xtest:\n",
    "        label = int(ytest[index])\n",
    "        filename = os.path.basename(img)\n",
    "        save_folder = base_folder + os.sep + 'test' + os.sep\n",
    "\n",
    "        if label == 1:\n",
    "            save_folder = save_folder + negative_class + os.sep\n",
    "        elif label == 0:\n",
    "            save_folder = save_folder + positive_class + os.sep\n",
    "\n",
    "        if not os.path.exists(str(save_folder)):\n",
    "            os.makedirs(os.path.dirname(str(save_folder)))\n",
    "\n",
    "        save_file = save_folder + filename\n",
    "        save_file = str(save_file)\n",
    "        shutil.copy(img,save_file)\n",
    "        index += 1\n",
    "\n",
    "    skf = StratifiedKFold(n_splits=K, shuffle=True, random_state=0)\n",
    "\n",
    "    print('[INFO] Generating Folds')\n",
    "\n",
    "    for idx, (train_indices, val_indices) in enumerate(skf.split(xtrain_aux, ytrain_aux)):\n",
    "        print(f\"[INFO] Generating data for fold {str(idx+1)} \\\\ {str(K)}...\")\n",
    "\n",
    "        xtrain, xval = xtrain_aux[train_indices], xtrain_aux[val_indices]\n",
    "        ytrain, yval = ytrain_aux[train_indices], ytrain_aux[val_indices]\n",
    "        \n",
    "        create_fold(xtrain, ytrain, idx, base_folder, 'train')\n",
    "\n",
    "        create_fold(xval, yval, idx, base_folder, 'val')\n",
    "\n",
    "        print(\"\\n [INFO] END \")\n",
    "            \n"
   ]
  },
  {
   "cell_type": "code",
   "execution_count": 77,
   "id": "1ac11281-f346-4b23-9f17-eda5cfc14d07",
   "metadata": {},
   "outputs": [
    {
     "name": "stdout",
     "output_type": "stream",
     "text": [
      "[INFO] Processando classe  ['0_Amiloidose', '1_Non_Amiloidose', '.ipynb_checkpoints']\n",
      "X: 4389 Amostras\n",
      "y: 4389 Amostras\n",
      "Test set: 1098 images. \n",
      "\n",
      "[INFO] Generating Folds\n",
      "[INFO] Generating data for fold 1 \\ 5...\n",
      "\n",
      " [INFO] END \n",
      "[INFO] Generating data for fold 2 \\ 5...\n",
      "\n",
      " [INFO] END \n",
      "[INFO] Generating data for fold 3 \\ 5...\n",
      "\n",
      " [INFO] END \n",
      "[INFO] Generating data for fold 4 \\ 5...\n",
      "\n",
      " [INFO] END \n",
      "[INFO] Generating data for fold 5 \\ 5...\n",
      "\n",
      " [INFO] END \n"
     ]
    }
   ],
   "source": [
    "generate_Kfolds()"
   ]
  }
 ],
 "metadata": {
  "kernelspec": {
   "display_name": "Python 3 (ipykernel)",
   "language": "python",
   "name": "python3"
  },
  "language_info": {
   "codemirror_mode": {
    "name": "ipython",
    "version": 3
   },
   "file_extension": ".py",
   "mimetype": "text/x-python",
   "name": "python",
   "nbconvert_exporter": "python",
   "pygments_lexer": "ipython3",
   "version": "3.8.10"
  }
 },
 "nbformat": 4,
 "nbformat_minor": 5
}
