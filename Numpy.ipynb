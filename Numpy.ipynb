{
 "cells": [
  {
   "cell_type": "code",
   "execution_count": 1,
   "id": "c9f7bc4d-2882-4075-af9e-f062638e5d62",
   "metadata": {},
   "outputs": [],
   "source": [
    "import numpy as np"
   ]
  },
  {
   "cell_type": "code",
   "execution_count": 17,
   "id": "0210a32e-20cb-4e82-a34f-eb2bd513b801",
   "metadata": {},
   "outputs": [
    {
     "name": "stdout",
     "output_type": "stream",
     "text": [
      "[18 13 15 16 19 15 13 11 15 15]\n"
     ]
    }
   ],
   "source": [
    "a_range = np.random.randint(10,20,10)\n",
    "print(a_range)"
   ]
  },
  {
   "cell_type": "code",
   "execution_count": 20,
   "id": "6ed3b684-90b6-4890-aa21-24842f157740",
   "metadata": {},
   "outputs": [
    {
     "data": {
      "text/plain": [
       "array([18, 13, 15, 16, 19, 15, 13, 11, 15, 15])"
      ]
     },
     "execution_count": 20,
     "metadata": {},
     "output_type": "execute_result"
    }
   ],
   "source": [
    "a_range"
   ]
  },
  {
   "cell_type": "code",
   "execution_count": 19,
   "id": "6b8b75dc-9ea9-4873-b75a-29c5a9d43c04",
   "metadata": {},
   "outputs": [
    {
     "name": "stdout",
     "output_type": "stream",
     "text": [
      "[1 0 7 4 6 9 8 5 2 3]\n"
     ]
    }
   ],
   "source": [
    "permutation = np.random.permutation(10)\n",
    "print(permutation)"
   ]
  },
  {
   "cell_type": "code",
   "execution_count": 22,
   "id": "8ce0840e-f3f6-4c80-abcd-25d086e155f5",
   "metadata": {},
   "outputs": [
    {
     "data": {
      "text/plain": [
       "array([13, 18, 11, 19, 13, 15, 15, 15, 15, 16])"
      ]
     },
     "execution_count": 22,
     "metadata": {},
     "output_type": "execute_result"
    }
   ],
   "source": [
    "perm_range = a_range[permutation]\n",
    "perm_range"
   ]
  }
 ],
 "metadata": {
  "kernelspec": {
   "display_name": "Python 3 (ipykernel)",
   "language": "python",
   "name": "python3"
  },
  "language_info": {
   "codemirror_mode": {
    "name": "ipython",
    "version": 3
   },
   "file_extension": ".py",
   "mimetype": "text/x-python",
   "name": "python",
   "nbconvert_exporter": "python",
   "pygments_lexer": "ipython3",
   "version": "3.11.7"
  }
 },
 "nbformat": 4,
 "nbformat_minor": 5
}
